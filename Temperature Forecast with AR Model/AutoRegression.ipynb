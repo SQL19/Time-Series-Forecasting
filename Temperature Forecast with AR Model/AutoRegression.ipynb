{
 "cells": [
  {
   "cell_type": "code",
   "execution_count": 1,
   "id": "d088f70a-c2a1-48e9-a6c1-f77dba484231",
   "metadata": {},
   "outputs": [],
   "source": [
    "import pandas as pd\n",
    "import numpy as np\n",
    "import matplotlib.pyplot as plt\n",
    "from statsmodels.tsa.ar_model import AutoReg"
   ]
  },
  {
   "cell_type": "code",
   "execution_count": 2,
   "id": "a3ca7181-5b34-45e6-b949-5f2fa0fa0256",
   "metadata": {},
   "outputs": [
    {
     "data": {
      "text/html": [
       "<div>\n",
       "<style scoped>\n",
       "    .dataframe tbody tr th:only-of-type {\n",
       "        vertical-align: middle;\n",
       "    }\n",
       "\n",
       "    .dataframe tbody tr th {\n",
       "        vertical-align: top;\n",
       "    }\n",
       "\n",
       "    .dataframe thead th {\n",
       "        text-align: right;\n",
       "    }\n",
       "</style>\n",
       "<table border=\"1\" class=\"dataframe\">\n",
       "  <thead>\n",
       "    <tr style=\"text-align: right;\">\n",
       "      <th></th>\n",
       "      <th>Date</th>\n",
       "      <th>Temp</th>\n",
       "    </tr>\n",
       "  </thead>\n",
       "  <tbody>\n",
       "    <tr>\n",
       "      <th>0</th>\n",
       "      <td>1981-01-01</td>\n",
       "      <td>20.7</td>\n",
       "    </tr>\n",
       "    <tr>\n",
       "      <th>1</th>\n",
       "      <td>1981-01-02</td>\n",
       "      <td>17.9</td>\n",
       "    </tr>\n",
       "    <tr>\n",
       "      <th>2</th>\n",
       "      <td>1981-01-03</td>\n",
       "      <td>18.8</td>\n",
       "    </tr>\n",
       "    <tr>\n",
       "      <th>3</th>\n",
       "      <td>1981-01-04</td>\n",
       "      <td>14.6</td>\n",
       "    </tr>\n",
       "    <tr>\n",
       "      <th>4</th>\n",
       "      <td>1981-01-05</td>\n",
       "      <td>15.8</td>\n",
       "    </tr>\n",
       "  </tbody>\n",
       "</table>\n",
       "</div>"
      ],
      "text/plain": [
       "         Date  Temp\n",
       "0  1981-01-01  20.7\n",
       "1  1981-01-02  17.9\n",
       "2  1981-01-03  18.8\n",
       "3  1981-01-04  14.6\n",
       "4  1981-01-05  15.8"
      ]
     },
     "execution_count": 2,
     "metadata": {},
     "output_type": "execute_result"
    }
   ],
   "source": [
    "df = pd.read_csv('daily-min-temperatures.csv', parse_dates=True, delimiter=',')\n",
    "df.head()"
   ]
  },
  {
   "cell_type": "code",
   "execution_count": 3,
   "id": "0e2a8662-4f80-4ac4-8cba-7a2176e0954c",
   "metadata": {},
   "outputs": [
    {
     "data": {
      "text/plain": [
       "Index(['Date', 'Temp'], dtype='object')"
      ]
     },
     "execution_count": 3,
     "metadata": {},
     "output_type": "execute_result"
    }
   ],
   "source": [
    "df.columns"
   ]
  },
  {
   "cell_type": "code",
   "execution_count": 4,
   "id": "a3713009-d95c-4473-9d96-807bff743578",
   "metadata": {},
   "outputs": [
    {
     "data": {
      "text/plain": [
       "(3650, 2)"
      ]
     },
     "execution_count": 4,
     "metadata": {},
     "output_type": "execute_result"
    }
   ],
   "source": [
    "df.shape"
   ]
  },
  {
   "cell_type": "code",
   "execution_count": 5,
   "id": "19674608-7e04-472e-9708-ce5081dc8daf",
   "metadata": {},
   "outputs": [
    {
     "data": {
      "text/plain": [
       "array([20.7, 17.9, 18.8, ..., 13.5, 15.7, 13. ])"
      ]
     },
     "execution_count": 5,
     "metadata": {},
     "output_type": "execute_result"
    }
   ],
   "source": [
    "X = df['Temp'].values\n",
    "X"
   ]
  },
  {
   "cell_type": "code",
   "execution_count": 6,
   "id": "1beb25a7-c8bb-4395-bf6b-7e9b9dbe9e9f",
   "metadata": {},
   "outputs": [
    {
     "data": {
      "text/plain": [
       "[<matplotlib.lines.Line2D at 0x7f86d800ec70>]"
      ]
     },
     "execution_count": 6,
     "metadata": {},
     "output_type": "execute_result"
    },
    {
     "data": {
      "image/png": "[encoded data removed]",
      "text/plain": [
       "<Figure size 432x288 with 1 Axes>"
      ]
     },
     "metadata": {
      "needs_background": "light"
     },
     "output_type": "display_data"
    }
   ],
   "source": [
    "plt.plot(df['Date'].values, X)"
   ]
  },
  {
   "cell_type": "markdown",
   "id": "d1facf40-642f-4ac4-a6e6-722e9423e603",
   "metadata": {},
   "source": [
    "### Check for Stationarity"
   ]
  },
  {
   "cell_type": "markdown",
   "id": "36978b34-dac4-453d-8919-6ac90245cdc3",
   "metadata": {},
   "source": [
    "Augmented Dickey Fuller test (ADF Test) is a common statistical test used to test whether a given Time series is stationary or not."
   ]
  },
  {
   "cell_type": "code",
   "execution_count": 7,
   "id": "28ce8598-ce93-432c-8430-770eec72a1c5",
   "metadata": {},
   "outputs": [],
   "source": [
    "from statsmodels.tsa.stattools import adfuller\n",
    "dftest = adfuller(df['Temp'], autolag = 'AIC')"
   ]
  },
  {
   "cell_type": "code",
   "execution_count": 8,
   "id": "767daff1-b2df-4e03-a814-7f0a6c140ac5",
   "metadata": {},
   "outputs": [
    {
     "name": "stdout",
     "output_type": "stream",
     "text": [
      "ADF Statistic: -4.444804924611708\n",
      "p-value: 0.0002470826300360912\n",
      "Number of Lags: 20\n",
      "Critial Values:\n",
      "   1%, -3.4321532327220154\n",
      "Critial Values:\n",
      "   5%, -2.862336767636517\n",
      "Critial Values:\n",
      "   10%, -2.56719413172842\n"
     ]
    }
   ],
   "source": [
    "print(f'ADF Statistic: {dftest[0]}')\n",
    "print(f'p-value: {dftest[1]}')\n",
    "print(f'Number of Lags: {dftest[2]}')\n",
    "for key, value in dftest[4].items():\n",
    "    print('Critial Values:')\n",
    "    print(f'   {key}, {value}')"
   ]
  },
  {
   "cell_type": "markdown",
   "id": "009a8bd4-e53a-4a9f-b4ae-4d57362d8902",
   "metadata": {},
   "source": [
    "The p-value is very less than the significance level of 0.05 and hence we can reject the null hypothesis and take that the series is stationary."
   ]
  },
  {
   "cell_type": "markdown",
   "id": "2d4c0261-9ac6-4ab0-98ab-26b336d2e8bb",
   "metadata": {},
   "source": [
    "### Calculate Partial Autocorrelation and Autocorrelation"
   ]
  },
  {
   "cell_type": "code",
   "execution_count": 9,
   "id": "77278c82-3af4-4441-b979-c7f5acb605ba",
   "metadata": {},
   "outputs": [
    {
     "data": {
      "image/png": "[encoded data removed]",
      "text/plain": [
       "<Figure size 432x288 with 1 Axes>"
      ]
     },
     "metadata": {
      "needs_background": "light"
     },
     "output_type": "display_data"
    },
    {
     "data": {
      "image/png": "[encoded data removed]",
      "text/plain": [
       "<Figure size 432x288 with 1 Axes>"
      ]
     },
     "metadata": {
      "needs_background": "light"
     },
     "output_type": "display_data"
    }
   ],
   "source": [
    "from statsmodels.graphics.tsaplots import plot_pacf, plot_acf\n",
    "pacf = plot_pacf(df['Temp'], lags=25)\n",
    "acf = plot_acf(df['Temp'], lags=25)"
   ]
  },
  {
   "cell_type": "markdown",
   "id": "6abf8599-6ea2-47d9-a741-309bde34b960",
   "metadata": {},
   "source": [
    "### AR Model"
   ]
  },
  {
   "cell_type": "code",
   "execution_count": 53,
   "id": "9c9935d7-3313-4f74-8544-c1db6baf46a9",
   "metadata": {},
   "outputs": [],
   "source": [
    "# split dataset into training and testing\n",
    "train = X[:len(X)-7] # all days before 7 days ago\n",
    "test = X[len(X)-7:] # last 7 days"
   ]
  },
  {
   "cell_type": "code",
   "execution_count": 54,
   "id": "ca514367-d3af-4d8e-a6b8-fbc787c9e4e5",
   "metadata": {},
   "outputs": [],
   "source": [
    "model = AutoReg(train,lags=20).fit()"
   ]
  },
  {
   "cell_type": "code",
   "execution_count": 55,
   "id": "2a8c3eb4-f199-42a9-8b8e-c5ae27093256",
   "metadata": {},
   "outputs": [
    {
     "name": "stdout",
     "output_type": "stream",
     "text": [
      "                            AutoReg Model Results                             \n",
      "==============================================================================\n",
      "Dep. Variable:                      y   No. Observations:                 3643\n",
      "Model:                    AutoReg(20)   Log Likelihood               -8311.900\n",
      "Method:               Conditional MLE   S.D. of innovations              2.400\n",
      "Date:                Sat, 06 Jan 2024   AIC                          16667.801\n",
      "Time:                        18:18:32   BIC                          16804.092\n",
      "Sample:                            20   HQIC                         16716.356\n",
      "                                 3643                                         \n",
      "==============================================================================\n",
      "                 coef    std err          z      P>|z|      [0.025      0.975]\n",
      "------------------------------------------------------------------------------\n",
      "const          0.6328      0.146      4.339      0.000       0.347       0.919\n",
      "y.L1           0.5913      0.017     35.609      0.000       0.559       0.624\n",
      "y.L2          -0.0910      0.019     -4.715      0.000      -0.129      -0.053\n",
      "y.L3           0.0507      0.019      2.623      0.009       0.013       0.089\n",
      "y.L4           0.0390      0.019      2.015      0.044       0.001       0.077\n",
      "y.L5           0.0412      0.019      2.131      0.033       0.003       0.079\n",
      "y.L6           0.0290      0.019      1.497      0.134      -0.009       0.067\n",
      "y.L7           0.0444      0.019      2.294      0.022       0.006       0.082\n",
      "y.L8           0.0153      0.019      0.791      0.429      -0.023       0.053\n",
      "y.L9           0.0399      0.019      2.059      0.040       0.002       0.078\n",
      "y.L10          0.0016      0.019      0.083      0.934      -0.036       0.040\n",
      "y.L11          0.0064      0.019      0.331      0.741      -0.032       0.044\n",
      "y.L12          0.0213      0.019      1.099      0.272      -0.017       0.059\n",
      "y.L13          0.0279      0.019      1.439      0.150      -0.010       0.066\n",
      "y.L14          0.0022      0.019      0.116      0.907      -0.036       0.040\n",
      "y.L15          0.0264      0.019      1.365      0.172      -0.012       0.064\n",
      "y.L16          0.0104      0.019      0.538      0.591      -0.028       0.048\n",
      "y.L17          0.0137      0.019      0.707      0.479      -0.024       0.052\n",
      "y.L18          0.0400      0.019      2.071      0.038       0.002       0.078\n",
      "y.L19         -0.0101      0.019     -0.523      0.601      -0.048       0.028\n",
      "y.L20          0.0430      0.017      2.597      0.009       0.011       0.076\n",
      "                                    Roots                                     \n",
      "==============================================================================\n",
      "                   Real          Imaginary           Modulus         Frequency\n",
      "------------------------------------------------------------------------------\n",
      "AR.1            -1.1933           -0.0000j            1.1933           -0.5000\n",
      "AR.2            -1.1054           -0.3777j            1.1682           -0.4476\n",
      "AR.3            -1.1054           +0.3777j            1.1682            0.4476\n",
      "AR.4            -0.9188           -0.7219j            1.1685           -0.3940\n",
      "AR.5            -0.9188           +0.7219j            1.1685            0.3940\n",
      "AR.6            -0.6238           -1.0076j            1.1850           -0.3382\n",
      "AR.7            -0.6238           +1.0076j            1.1850            0.3382\n",
      "AR.8             1.0112           -0.0000j            1.0112           -0.0000\n",
      "AR.9             1.0670           -0.3597j            1.1260           -0.0517\n",
      "AR.10            1.0670           +0.3597j            1.1260            0.0517\n",
      "AR.11            0.9251           -0.6986j            1.1592           -0.1029\n",
      "AR.12            0.9251           +0.6986j            1.1592            0.1029\n",
      "AR.13            0.6964           -0.9428j            1.1721           -0.1487\n",
      "AR.14            0.6964           +0.9428j            1.1721            0.1487\n",
      "AR.15           -0.3083           -1.1692j            1.2092           -0.2910\n",
      "AR.16           -0.3083           +1.1692j            1.2092            0.2910\n",
      "AR.17            0.3996           -1.1523j            1.2197           -0.1969\n",
      "AR.18            0.3996           +1.1523j            1.2197            0.1969\n",
      "AR.19            0.0763           -1.1999j            1.2023           -0.2399\n",
      "AR.20            0.0763           +1.1999j            1.2023            0.2399\n",
      "------------------------------------------------------------------------------\n"
     ]
    }
   ],
   "source": [
    "print(model.summary())"
   ]
  },
  {
   "cell_type": "markdown",
   "id": "fba20c39-591a-48fc-b266-b1d375fbc2c8",
   "metadata": {},
   "source": [
    "### Prediction"
   ]
  },
  {
   "cell_type": "code",
   "execution_count": 56,
   "id": "268dce7b-193e-42a6-9a1e-3de215306531",
   "metadata": {},
   "outputs": [],
   "source": [
    "pred = model.predict(start=len(train), end=len(X)-1, dynamic=False)"
   ]
  },
  {
   "cell_type": "code",
   "execution_count": 57,
   "id": "4a9d1a54-de07-4cc3-a284-0d2b1885da1f",
   "metadata": {},
   "outputs": [
    {
     "name": "stdout",
     "output_type": "stream",
     "text": [
      "[11.90180601 13.05141921 13.47944483 13.13731965 12.93277821 12.86111125\n",
      " 12.7217763 ]\n"
     ]
    }
   ],
   "source": [
    "print(pred)"
   ]
  },
  {
   "cell_type": "code",
   "execution_count": 58,
   "id": "2c91e1cc-3bcc-4c35-9627-13caf107203a",
   "metadata": {},
   "outputs": [
    {
     "data": {
      "text/plain": [
       "[<matplotlib.lines.Line2D at 0x7f8739347940>]"
      ]
     },
     "execution_count": 58,
     "metadata": {},
     "output_type": "execute_result"
    },
    {
     "data": {
      "image/png": "[encoded data removed]",
      "text/plain": [
       "<Figure size 432x288 with 1 Axes>"
      ]
     },
     "metadata": {
      "needs_background": "light"
     },
     "output_type": "display_data"
    }
   ],
   "source": [
    "plt.plot(pred)\n",
    "plt.plot(test, color='red')"
   ]
  },
  {
   "cell_type": "code",
   "execution_count": 59,
   "id": "08edb446-a4ca-43c7-910b-ae0722e62a58",
   "metadata": {},
   "outputs": [
    {
     "data": {
      "text/plain": [
       "1.7625689727694671"
      ]
     },
     "execution_count": 59,
     "metadata": {},
     "output_type": "execute_result"
    }
   ],
   "source": [
    "from sklearn.metrics import mean_squared_error\n",
    "mse = mean_squared_error(test, pred)\n",
    "mse"
   ]
  },
  {
   "cell_type": "code",
   "execution_count": 60,
   "id": "6335de79-4537-4949-9e9c-9b6297d384cc",
   "metadata": {},
   "outputs": [
    {
     "data": {
      "text/plain": [
       "array([12.8810994 , 12.87212717, 12.89306112, 13.01405773, 13.08507688,\n",
       "       12.90882915, 13.04801937])"
      ]
     },
     "execution_count": 60,
     "metadata": {},
     "output_type": "execute_result"
    }
   ],
   "source": [
    "# prediction for the next week\n",
    "pred_future = model.predict(start=len(X), end=len(X)+6, dynamic=False)\n",
    "pred_future"
   ]
  },
  {
   "cell_type": "code",
   "execution_count": 61,
   "id": "75dfc2df-3829-4b43-8cee-026044d4e958",
   "metadata": {},
   "outputs": [
    {
     "data": {
      "image/png": "[encoded data removed]",
      "text/plain": [
       "<Figure size 432x288 with 1 Axes>"
      ]
     },
     "metadata": {
      "needs_background": "light"
     },
     "output_type": "display_data"
    }
   ],
   "source": [
    "#plt.figure(figsize=(10,6))\n",
    "plt.plot(df['Date'][:len(train)].values[-100:-1], train[-100:-1], label='train')\n",
    "plt.plot(df['Date'][len(train):].values, test, label = 'test')\n",
    "plt.plot(df['Date'][len(train):].values, pred, label='pred')\n",
    "plt.legend()\n",
    "plt.show()"
   ]
  },
  {
   "cell_type": "code",
   "execution_count": null,
   "id": "ca451e14-20a3-4643-bfa2-d286c99e06c7",
   "metadata": {},
   "outputs": [],
   "source": []
  }
 ],
 "metadata": {
  "kernelspec": {
   "display_name": "Python 3 (ipykernel)",
   "language": "python",
   "name": "python3"
  },
  "language_info": {
   "codemirror_mode": {
    "name": "ipython",
    "version": 3
   },
   "file_extension": ".py",
   "mimetype": "text/x-python",
   "name": "python",
   "nbconvert_exporter": "python",
   "pygments_lexer": "ipython3",
   "version": "3.9.7"
  }
 },
 "nbformat": 4,
 "nbformat_minor": 5
}
